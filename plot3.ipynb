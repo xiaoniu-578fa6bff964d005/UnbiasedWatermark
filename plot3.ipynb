{
 "cells": [
  {
   "cell_type": "code",
   "execution_count": null,
   "id": "4b6284c0",
   "metadata": {},
   "outputs": [],
   "source": []
  },
  {
   "cell_type": "code",
   "execution_count": 1,
   "id": "e62fa581",
   "metadata": {},
   "outputs": [],
   "source": [
    "%load_ext autoreload\n",
    "%autoreload 2"
   ]
  },
  {
   "cell_type": "code",
   "execution_count": 2,
   "id": "ed670494",
   "metadata": {},
   "outputs": [],
   "source": [
    "import numpy as np\n",
    "import pandas as pd\n",
    "import polars as pl"
   ]
  },
  {
   "cell_type": "code",
   "execution_count": 3,
   "id": "5da8d1b0",
   "metadata": {},
   "outputs": [],
   "source": [
    "data_path = \"data.05_24_11_31\"\n",
    "task = \"text_summarization\""
   ]
  },
  {
   "attachments": {},
   "cell_type": "markdown",
   "id": "f9ee9bfe",
   "metadata": {},
   "source": [
    "# likelihood agnostic"
   ]
  },
  {
   "cell_type": "code",
   "execution_count": 4,
   "id": "60d82697",
   "metadata": {},
   "outputs": [],
   "source": [
    "df = pl.scan_ndjson(f\"{data_path}/{task}_score.txt\")\n",
    "ldf = df.filter(pl.col(\"watermark_processor\").str.contains(\"Gumbel\"))\\\n",
    "        .select([\"best_score\", \"la_score\"])\\\n",
    "        .explode(\"best_score\", \"la_score\")\\\n",
    "        .with_columns(pl.lit(\"DeltaGumbel\").alias(\"wp\"))\\\n",
    "        .groupby([\"wp\"])\\\n",
    "        .agg(\n",
    "        [\n",
    "                pl.count().alias(\"token_count\"),\n",
    "                pl.col(\"best_score\").mean().alias(\"score_per_token\"),\n",
    "                pl.col(\"best_score\").std().alias(\"score_per_token_std\"),\n",
    "                pl.col(\"la_score\").mean().alias(\"la_score_per_token\"),\n",
    "                pl.col(\"la_score\").std().alias(\"la_score_per_token_std\"),\n",
    "        ]\n",
    "        )\n"
   ]
  },
  {
   "cell_type": "code",
   "execution_count": 5,
   "id": "95e38557",
   "metadata": {},
   "outputs": [
    {
     "data": {
      "text/html": [
       "<div><style>\n",
       ".dataframe > thead > tr > th,\n",
       ".dataframe > tbody > tr > td {\n",
       "  text-align: right;\n",
       "}\n",
       "</style>\n",
       "<small>shape: (1, 6)</small><table border=\"1\" class=\"dataframe\"><thead><tr><th>wp</th><th>token_count</th><th>score_per_token</th><th>score_per_token_std</th><th>la_score_per_token</th><th>la_score_per_token_std</th></tr><tr><td>str</td><td>u32</td><td>f64</td><td>f64</td><td>f64</td><td>f64</td></tr></thead><tbody><tr><td>&quot;DeltaGumbel&quot;</td><td>883309</td><td>0.87653</td><td>1.444565</td><td>0.078438</td><td>0.776177</td></tr></tbody></table></div>"
      ],
      "text/plain": [
       "shape: (1, 6)\n",
       "┌─────────────┬─────────────┬─────────────────┬─────────────────┬─────────────────┬────────────────┐\n",
       "│ wp          ┆ token_count ┆ score_per_token ┆ score_per_token ┆ la_score_per_to ┆ la_score_per_t │\n",
       "│ ---         ┆ ---         ┆ ---             ┆ _std            ┆ ken             ┆ oken_std       │\n",
       "│ str         ┆ u32         ┆ f64             ┆ ---             ┆ ---             ┆ ---            │\n",
       "│             ┆             ┆                 ┆ f64             ┆ f64             ┆ f64            │\n",
       "╞═════════════╪═════════════╪═════════════════╪═════════════════╪═════════════════╪════════════════╡\n",
       "│ DeltaGumbel ┆ 883309      ┆ 0.87653         ┆ 1.444565        ┆ 0.078438        ┆ 0.776177       │\n",
       "└─────────────┴─────────────┴─────────────────┴─────────────────┴─────────────────┴────────────────┘"
      ]
     },
     "execution_count": 5,
     "metadata": {},
     "output_type": "execute_result"
    }
   ],
   "source": [
    "ldf.collect()"
   ]
  },
  {
   "cell_type": "code",
   "execution_count": 6,
   "id": "02ac08ce",
   "metadata": {},
   "outputs": [],
   "source": [
    "task = \"machine_translation\""
   ]
  },
  {
   "cell_type": "code",
   "execution_count": 7,
   "id": "93413f9b",
   "metadata": {},
   "outputs": [],
   "source": [
    "df = pl.scan_ndjson(f\"{data_path}/{task}_score.txt\",infer_schema_length=10000)\n",
    "ldf = df.filter(pl.col(\"watermark_processor\").str.contains(\"Gumbel\"))\\\n",
    "        .select([\"best_score\", \"la_score\"])\\\n",
    "        .explode(\"best_score\", \"la_score\")\\\n",
    "        .with_columns(pl.lit(\"DeltaGumbel\").alias(\"wp\"))\\\n",
    "        .groupby([\"wp\"])\\\n",
    "        .agg(\n",
    "        [\n",
    "                pl.count().alias(\"token_count\"),\n",
    "                pl.col(\"best_score\").mean().alias(\"score_per_token\"),\n",
    "                pl.col(\"best_score\").std().alias(\"score_per_token_std\"),\n",
    "                pl.col(\"la_score\").mean().alias(\"la_score_per_token\"),\n",
    "                pl.col(\"la_score\").std().alias(\"la_score_per_token_std\"),\n",
    "        ]\n",
    "        )\n"
   ]
  },
  {
   "cell_type": "code",
   "execution_count": 8,
   "id": "989fa6d5",
   "metadata": {},
   "outputs": [
    {
     "data": {
      "text/html": [
       "<div><style>\n",
       ".dataframe > thead > tr > th,\n",
       ".dataframe > tbody > tr > td {\n",
       "  text-align: right;\n",
       "}\n",
       "</style>\n",
       "<small>shape: (1, 6)</small><table border=\"1\" class=\"dataframe\"><thead><tr><th>wp</th><th>token_count</th><th>score_per_token</th><th>score_per_token_std</th><th>la_score_per_token</th><th>la_score_per_token_std</th></tr><tr><td>str</td><td>u32</td><td>f64</td><td>f64</td><td>f64</td><td>f64</td></tr></thead><tbody><tr><td>&quot;DeltaGumbel&quot;</td><td>70102</td><td>0.429649</td><td>1.171952</td><td>-0.104224</td><td>0.890775</td></tr></tbody></table></div>"
      ],
      "text/plain": [
       "shape: (1, 6)\n",
       "┌─────────────┬─────────────┬─────────────────┬─────────────────┬─────────────────┬────────────────┐\n",
       "│ wp          ┆ token_count ┆ score_per_token ┆ score_per_token ┆ la_score_per_to ┆ la_score_per_t │\n",
       "│ ---         ┆ ---         ┆ ---             ┆ _std            ┆ ken             ┆ oken_std       │\n",
       "│ str         ┆ u32         ┆ f64             ┆ ---             ┆ ---             ┆ ---            │\n",
       "│             ┆             ┆                 ┆ f64             ┆ f64             ┆ f64            │\n",
       "╞═════════════╪═════════════╪═════════════════╪═════════════════╪═════════════════╪════════════════╡\n",
       "│ DeltaGumbel ┆ 70102       ┆ 0.429649        ┆ 1.171952        ┆ -0.104224       ┆ 0.890775       │\n",
       "└─────────────┴─────────────┴─────────────────┴─────────────────┴─────────────────┴────────────────┘"
      ]
     },
     "execution_count": 8,
     "metadata": {},
     "output_type": "execute_result"
    }
   ],
   "source": [
    "ldf.collect()"
   ]
  },
  {
   "cell_type": "code",
   "execution_count": null,
   "id": "f5c0bf7e",
   "metadata": {},
   "outputs": [],
   "source": []
  },
  {
   "cell_type": "code",
   "execution_count": null,
   "id": "4d31bb8f",
   "metadata": {},
   "outputs": [],
   "source": []
  }
 ],
 "metadata": {
  "interpreter": {
   "hash": "4292d1429c89080e4a98e8c5b192a0c44fbb5e481943ce812f923de47b1f7601"
  },
  "kernelspec": {
   "display_name": "env: (machinelearning)",
   "language": "python",
   "name": "machinelearning"
  },
  "language_info": {
   "codemirror_mode": {
    "name": "ipython",
    "version": 3
   },
   "file_extension": ".py",
   "mimetype": "text/x-python",
   "name": "python",
   "nbconvert_exporter": "python",
   "pygments_lexer": "ipython3",
   "version": "3.10.8"
  },
  "toc": {
   "base_numbering": 1,
   "nav_menu": {},
   "number_sections": true,
   "sideBar": true,
   "skip_h1_title": false,
   "title_cell": "Table of Contents",
   "title_sidebar": "Contents",
   "toc_cell": false,
   "toc_position": {},
   "toc_section_display": true,
   "toc_window_display": false
  }
 },
 "nbformat": 4,
 "nbformat_minor": 5
}
